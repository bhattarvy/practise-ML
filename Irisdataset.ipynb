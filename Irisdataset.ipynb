{
 "cells": [
  {
   "cell_type": "code",
   "execution_count": 55,
   "metadata": {},
   "outputs": [
    {
     "name": "stdout",
     "output_type": "stream",
     "text": [
      "<class 'pandas.core.frame.DataFrame'>\n"
     ]
    },
    {
     "data": {
      "image/png": "[encoded data removed]",
      "text/plain": [
       "<matplotlib.figure.Figure at 0x7f9cce741190>"
      ]
     },
     "metadata": {},
     "output_type": "display_data"
    }
   ],
   "source": [
    "import  numpy as np\n",
    "import pandas as pd\n",
    "import matplotlib.pyplot as plt\n",
    "df=pd.read_csv('Iris.csv')\n",
    "print(type(df))\n",
    "df.drop('Id',axis=1,inplace=True)\n",
    "df['Species']=df.Species.map({'Iris-setosa':0,'Iris-versicolor':1,'Iris-virginica':2})\n",
    "\n",
    "X=df.loc[:,'SepalLengthCm':'PetalWidthCm']\n",
    "Y=df['Species']\n",
    "plt.plot(X,Y,'ro')\n",
    "plt.show()\n",
    "\n",
    "\n"
   ]
  },
  {
   "cell_type": "code",
   "execution_count": 78,
   "metadata": {},
   "outputs": [
    {
     "name": "stdout",
     "output_type": "stream",
     "text": [
      "0.95\n"
     ]
    },
    {
     "data": {
      "image/png": "[encoded data removed]",
      "text/plain": [
       "<matplotlib.figure.Figure at 0x7f9cbbfb2890>"
      ]
     },
     "metadata": {},
     "output_type": "display_data"
    },
    {
     "data": {
      "text/plain": [
       "numpy.ndarray"
      ]
     },
     "execution_count": 78,
     "metadata": {},
     "output_type": "execute_result"
    }
   ],
   "source": [
    "from sklearn import linear_model\n",
    "import matplotlib.pyplot as plt\n",
    "reg=linear_model.LogisticRegression(penality='L1')\n",
    "X=np.array(X)\n",
    "Y=np.array(Y)\n",
    "\n",
    "reg.fit(X[0:130,:],Y[0:130])\n",
    "pred=reg.predict(X[130:,:])\n",
    "print(reg.score(X[130:,:],Y[130:]))\n",
    "\n",
    "plt.plot(X[:,0],Y,'ro')\n",
    "plt.plot(X[130:,0],pred,linewidth=1)\n",
    "plt.show()\n",
    "\n",
    "type(Y)\n"
   ]
  }
 ],
 "metadata": {
  "kernelspec": {
   "display_name": "Python 2",
   "language": "python",
   "name": "python2"
  },
  "language_info": {
   "codemirror_mode": {
    "name": "ipython",
    "version": 2
   },
   "file_extension": ".py",
   "mimetype": "text/x-python",
   "name": "python",
   "nbconvert_exporter": "python",
   "pygments_lexer": "ipython2",
   "version": "2.7.13"
  }
 },
 "nbformat": 4,
 "nbformat_minor": 2
}
