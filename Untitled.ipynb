{
 "cells": [
  {
   "cell_type": "code",
   "execution_count": 2,
   "metadata": {
    "collapsed": true
   },
   "outputs": [],
   "source": [
    "import pandas as pd\n"
   ]
  },
  {
   "cell_type": "code",
   "execution_count": 3,
   "metadata": {
    "collapsed": true
   },
   "outputs": [],
   "source": [
    "import numpy as np\n",
    "from sklearn import datasets,linear_model\n",
    "diab = datasets.load_diabetes()\n",
    "import matplotlib.pyplot as plt\n",
    "from sklearn.metrics import mean_squared_error, r2_score\n"
   ]
  },
  {
   "cell_type": "code",
   "execution_count": 5,
   "metadata": {},
   "outputs": [
    {
     "name": "stdout",
     "output_type": "stream",
     "text": [
      "(442, 10)\n",
      "[[ 0.03807591  0.05068012  0.06169621 ..., -0.00259226  0.01990842\n",
      "  -0.01764613]\n",
      " [-0.00188202 -0.04464164 -0.05147406 ..., -0.03949338 -0.06832974\n",
      "  -0.09220405]\n",
      " [ 0.08529891  0.05068012  0.04445121 ..., -0.00259226  0.00286377\n",
      "  -0.02593034]\n",
      " ..., \n",
      " [ 0.04170844  0.05068012 -0.01590626 ..., -0.01107952 -0.04687948\n",
      "   0.01549073]\n",
      " [-0.04547248 -0.04464164  0.03906215 ...,  0.02655962  0.04452837\n",
      "  -0.02593034]\n",
      " [-0.04547248 -0.04464164 -0.0730303  ..., -0.03949338 -0.00421986\n",
      "   0.00306441]]\n"
     ]
    },
    {
     "ename": "NameError",
     "evalue": "name 'y' is not defined",
     "output_type": "error",
     "traceback": [
      "\u001b[0;31m---------------------------------------------------------------------------\u001b[0m",
      "\u001b[0;31mNameError\u001b[0m                                 Traceback (most recent call last)",
      "\u001b[0;32m<ipython-input-5-3f41bbdf0b09>\u001b[0m in \u001b[0;36m<module>\u001b[0;34m()\u001b[0m\n\u001b[1;32m     10\u001b[0m \u001b[0;32mprint\u001b[0m\u001b[0;34m(\u001b[0m\u001b[0mX\u001b[0m\u001b[0;34m)\u001b[0m\u001b[0;34m\u001b[0m\u001b[0m\n\u001b[1;32m     11\u001b[0m plt.scatter(X[:,6\n\u001b[0;32m---> 12\u001b[0;31m              ],y,color='black')\n\u001b[0m\u001b[1;32m     13\u001b[0m \u001b[0;34m\u001b[0m\u001b[0m\n",
      "\u001b[0;31mNameError\u001b[0m: name 'y' is not defined"
     ]
    }
   ],
   "source": [
    "X=diab['data']\n",
    "\n",
    "type(X)\n",
    "print(X.shape)\n",
    "\n",
    "Y=diab['target']\n",
    "\n",
    "\n",
    "X.shape\n",
    "print(X)\n",
    "plt.scatter(X[:,6\n",
    "             ],y,color='black')\n",
    "\n"
   ]
  },
  {
   "cell_type": "code",
   "execution_count": 12,
   "metadata": {},
   "outputs": [
    {
     "name": "stdout",
     "output_type": "stream",
     "text": [
      "152.152355873\n",
      "[-234.45346332  518.67123721  304.82892081 -756.32115517  441.33494245\n",
      "   96.98517131  208.17134134  676.48385957  104.41314141]\n",
      "[250  57 103 101 252 166  66 181 166 186 186  90 152 248 198 278  49 177\n",
      " 200 172 153 151 234 123 164 174 227 152 101  84 145 191 194 153 172 110\n",
      " 164 132 258 100 117 123 219  63 133 120  53 190 105 124 207  54]\n",
      "[ 277.   63.  118.   69.  273.  258.   43.  198.  242.  232.  175.   93.\n",
      "  168.  275.  293.  281.   72.  140.  189.  181.  209.  136.  261.  113.\n",
      "  131.  174.  257.   55.   84.   42.  146.  212.  233.   91.  111.  152.\n",
      "  120.   67.  310.   94.  183.   66.  173.   72.   49.   64.   48.  178.\n",
      "  104.  132.  220.   57.]\n",
      "1735.5087496\n"
     ]
    }
   ],
   "source": [
    "x=X[0:390,1:]\n",
    "y=Y[:390]\n",
    "reg=linear_model.LinearRegression()\n",
    "reg.fit(x,y)\n",
    "print(reg.intercept_)\n",
    "print(reg.coef_)\n",
    "pred=reg.predict(X[390:442,1:])\n",
    "print(pred.astype(int))\n",
    "print(Y[390:442])\n",
    "\n",
    "print(mean_squared_error(Y[390:442], pred))\n",
    "\n",
    "\n",
    "\n",
    "\n"
   ]
  }
 ],
 "metadata": {
  "kernelspec": {
   "display_name": "Python 3",
   "language": "python",
   "name": "python3"
  },
  "language_info": {
   "codemirror_mode": {
    "name": "ipython",
    "version": 2
   },
   "file_extension": ".py",
   "mimetype": "text/x-python",
   "name": "python",
   "nbconvert_exporter": "python",
   "pygments_lexer": "ipython2",
   "version": "2.7.13"
  }
 },
 "nbformat": 4,
 "nbformat_minor": 2
}
